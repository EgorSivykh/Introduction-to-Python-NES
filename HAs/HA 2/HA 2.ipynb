{
 "cells": [
  {
   "cell_type": "markdown",
   "metadata": {
    "id": "bcR1qtXrTpMR"
   },
   "source": [
    "# **<center> Introduction to Python for Practical Problems </center>**\n",
    "# **<center> New Economic School, MAE 2025 </center>**\n",
    "## **<center> Home Assignment 2 </center>**"
   ]
  },
  {
   "cell_type": "markdown",
   "metadata": {
    "id": "nCyGaIewT_yl"
   },
   "source": [
    "### **Задание 1.**\n",
    "\n",
    "Создайте класс **Pizza** (для выбора и определения наполнителя для пиццы в ресторане), который при инициализации принимает аргумент `topping` (отвечает за начинку пиццы). В этом классе реализуйте метод **show_my_topping()**, который выводит «Пицца и {НАЧИНКА}», если начинка присутствует. В противном случае отображайте фразу «Обычная пицца».\n",
    "\n",
    "Не забывайте, что численные, булевы и т.д. элементы не могут быть начинкой. Попробуйте воспользоваться функцией `isinstance()` :)"
   ]
  },
  {
   "cell_type": "code",
   "execution_count": null,
   "metadata": {
    "id": "vPD31-WsTlbq"
   },
   "outputs": [],
   "source": [
    "class Pizza():\n",
    "    pass"
   ]
  },
  {
   "cell_type": "markdown",
   "metadata": {},
   "source": [
    "### **Задание 2.**\n",
    "\n",
    "Для ускорения работы проверки треугольников на валидность, Вы решили написать себе помощника. \n",
    "\n",
    "Создайте класс **TriangleChecker**, который будет принимать на вход 3 положительных аргумента, соответствующих длинам сторон проверяемого треугольника. В этом классе реализуйте метод **is_triangle()**, возвращающий, в сзависимости от ситуации, следующие значения:\n",
    "\n",
    "* Треугольник валиден!\n",
    "* Сторона треугольника не может иметь отрицательную длину!;\n",
    "* Разрешен ввод только чисел!;\n",
    "* Треугольник не является валдиным."
   ]
  },
  {
   "cell_type": "code",
   "execution_count": null,
   "metadata": {},
   "outputs": [],
   "source": [
    "class TriangleChecker():\n",
    "    pass"
   ]
  },
  {
   "cell_type": "markdown",
   "metadata": {},
   "source": [
    "### **Задание 3.**\n",
    "\n",
    "Вы хотите собрать о человеке на допросе как можно больше информации. Для этого Вы решили написать класс **Suspect**, который принимает на вход обязательные аргументы `name`, `surname` и `age`,  а также неопределенное количество любых других аргументов (информации о человеке), которые, естественно, до допроса неизвестны.\n",
    "\n",
    "Внутри класса реализуйте метод **show_info()**, который принимает в себя аргумент `which`, отвечающие за то, какая информация Вас интересует: только основная (имя, фамилия и возраст); основная и вся дополнительная информация; только дополнительная информация (без имени, фамилии и возраста).\n",
    "\n",
    "Вывод сделайте в следующем формате, в зависимости от запроса в методе **show_info()**:\n",
    "\n",
    "```\n",
    "Основная информация о подозреваемом\n",
    "\n",
    "ИМЯ    : {имя}\n",
    "ФАМИЛИЯ: {фамилия}\n",
    "ВОЗРАСТ: {возраст}\n",
    "----------------------------------------\n",
    "\n",
    "Дополнительна информация о подозреваемом\n",
    "\n",
    "ПОЛ: {пол}\n",
    "и т.д.\n",
    "```\n",
    "\n",
    "Можно не делать оформление. Это просто вариант для примера."
   ]
  },
  {
   "cell_type": "code",
   "execution_count": null,
   "metadata": {},
   "outputs": [],
   "source": [
    "class Suspect():\n",
    "    pass"
   ]
  },
  {
   "cell_type": "code",
   "execution_count": null,
   "metadata": {},
   "outputs": [],
   "source": []
  },
  {
   "cell_type": "code",
   "execution_count": null,
   "metadata": {},
   "outputs": [],
   "source": []
  },
  {
   "cell_type": "code",
   "execution_count": null,
   "metadata": {},
   "outputs": [],
   "source": []
  },
  {
   "cell_type": "code",
   "execution_count": null,
   "metadata": {},
   "outputs": [],
   "source": []
  }
 ],
 "metadata": {
  "colab": {
   "collapsed_sections": [],
   "name": "Python_HW_1.ipynb",
   "provenance": []
  },
  "kernelspec": {
   "display_name": "Python 3 (ipykernel)",
   "language": "python",
   "name": "python3"
  },
  "language_info": {
   "codemirror_mode": {
    "name": "ipython",
    "version": 3
   },
   "file_extension": ".py",
   "mimetype": "text/x-python",
   "name": "python",
   "nbconvert_exporter": "python",
   "pygments_lexer": "ipython3",
   "version": "3.10.9"
  }
 },
 "nbformat": 4,
 "nbformat_minor": 1
}
