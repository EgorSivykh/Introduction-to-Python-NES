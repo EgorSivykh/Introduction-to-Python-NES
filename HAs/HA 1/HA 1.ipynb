{
 "cells": [
  {
   "cell_type": "markdown",
   "metadata": {
    "id": "bcR1qtXrTpMR"
   },
   "source": [
    "# **<center> Introduction to Python for Practical Problems </center>**\n",
    "# **<center> New Economic School, MAE 2027 </center>**\n",
    "## **<center> Home Assignment 1 </center>**"
   ]
  },
  {
   "cell_type": "markdown",
   "metadata": {
    "id": "nCyGaIewT_yl"
   },
   "source": [
    "### Задание 1\n",
    "\n",
    "Ниже Вам дана строка. Проделайте с ней следующие операции:\n",
    "\n",
    "(1) Замените все `'a'` на `'@'` \n",
    "\n",
    "(2) Приведите строку к нижнему регистру\n",
    "\n",
    "(3) Удалите лишние пробелы в конце\n",
    "\n",
    "(4) Разбейте строку на слова в список (**hint**: подумайте, какой требуется разделитель; возможно, вам понадобится дополнительный шаг и ранее использованный функционал)\n",
    "\n",
    "После каждой операции выведите полученный результат"
   ]
  },
  {
   "cell_type": "code",
   "execution_count": null,
   "metadata": {
    "id": "vPD31-WsTlbq"
   },
   "outputs": [],
   "source": [
    "string = 'Please, make some manipulaTions with this String    '\n",
    "\n",
    "# your code"
   ]
  },
  {
   "cell_type": "markdown",
   "metadata": {
    "id": "sHaaUpjQUJJ4"
   },
   "source": [
    "### Задание 2\n",
    "\n",
    "Ниже Вам дан список из различных элементов. Проделайте с ним следующее:\n",
    "\n",
    "(1) Возьмите второй элемент с конца\n",
    "\n",
    "(2) Возьмите все элементы списка с 3-го с начала по 2-й с конца включительно (без последнего элемента)\n",
    "\n",
    "(3) Замените 4-й элемент на 42\n",
    "\n",
    "(4) Возьмите все элементы списка со 2-го с начала по 2-й с конца (не включительно) через 1 (с шагом в 2)\n",
    "\n",
    "(5) Соедините все элементы изначального списка в строку через пробел (Вам может потребоваться перевести элементы списка в строковый формат)\n",
    "\n",
    "После каждой операции выведите полученный результат\n",
    "\n",
    "\n"
   ]
  },
  {
   "cell_type": "code",
   "execution_count": null,
   "metadata": {
    "id": "W_3MWaaEUKud"
   },
   "outputs": [],
   "source": [
    "problem2_list = [1, 3, 7, 11, 'a', '42', 3, 9, '123', 'bc']\n",
    "\n",
    "# your code"
   ]
  },
  {
   "cell_type": "markdown",
   "metadata": {
    "id": "LDGFY99keaE0"
   },
   "source": [
    "### Задание 3\n",
    "\n",
    "Вам даны два списка. Проделайте с ними следующее:\n",
    "\n",
    "(1) Сделайте из них один список, содержащий в себе все элементы этих 2-х списков\n",
    "\n",
    "(2) Сделайте из них один список, элемены в котором не повторяются"
   ]
  },
  {
   "cell_type": "code",
   "execution_count": null,
   "metadata": {
    "id": "1usUnveieaQ0"
   },
   "outputs": [],
   "source": [
    "problem3_list1 = [1, 'a', 3, 5]\n",
    "problem3_list2 = [2, 4, 'a', 'b', 5]\n",
    "\n",
    "# your code"
   ]
  },
  {
   "cell_type": "markdown",
   "metadata": {
    "id": "WYmNkRY2fJQc"
   },
   "source": [
    "### Задание 4\n",
    "\n",
    "Выводите все значения списка ниже пока индекс элемента меньше 6, соблюдая следующие условия:\n",
    "\n",
    "(1) Используйте цикл `for`\n",
    "\n",
    "(2) Используйте цикл `while`"
   ]
  },
  {
   "cell_type": "code",
   "execution_count": null,
   "metadata": {
    "id": "d6K2xT3cfJZB"
   },
   "outputs": [],
   "source": [
    "problem4_list = [1, '7', True, 3, [2, 1], 5, 9, 'H', '4', '4', 30]\n",
    "\n",
    "# your code"
   ]
  },
  {
   "cell_type": "markdown",
   "metadata": {
    "id": "AOIBhtyLUK4s"
   },
   "source": [
    "### Задание 5\n",
    "\n",
    "Вам дан список, содержащий в себе элементы разных типов данных. Проделайте с этим списком следующее:\n",
    "\n",
    "(1) Выведите все элементы списка, кроме внутреннего (вложенного) списка (исключая его)\n",
    "\n",
    "(2) Выведите все элементы списка пока не встретится внутренний (вложенный) список (вывести все до него)\n",
    "\n",
    "Ваш алгоритм не должен явным образом учитывать индекс этого элемента"
   ]
  },
  {
   "cell_type": "code",
   "execution_count": null,
   "metadata": {
    "id": "ceOWUG-NUMlg"
   },
   "outputs": [],
   "source": [
    "problem5_list = [1, 3, 7, 11, 'a', '42', 3, [1, (2, True)], '123', 'bc']\n",
    "\n",
    "# your code"
   ]
  },
  {
   "cell_type": "markdown",
   "metadata": {
    "id": "TfWDs-pgUM13"
   },
   "source": [
    "### Задание 6\n",
    "\n",
    "Вам дан список и целых чисел. Для данного списка проделайте следующее:\n",
    "\n",
    "(1) Составьте список из корней тех элементов, которые нацело делятся на 4. Также округлите каждый новый элемент до 4-го знака после запятой (используйте встроенную функцию `round()`). Можете воспользоваться любым видом циклов\n",
    "\n",
    "(2) Проделайте то же самое только в **list comprehension** нотации"
   ]
  },
  {
   "cell_type": "code",
   "execution_count": null,
   "metadata": {
    "id": "9DR2dbxGUOBg"
   },
   "outputs": [],
   "source": [
    "problem6_list = [1, 2, 5, 7, 4, 9, 11, 12, 16, 3, 6, 4]\n",
    "\n",
    "# your code"
   ]
  },
  {
   "cell_type": "markdown",
   "metadata": {
    "id": "nk-egtp2UOmf"
   },
   "source": [
    "### Задание 7\n",
    "\n",
    "Вам даны 2 списка. Верните список, состоящий из непересекающихся элементов первоначальных списков."
   ]
  },
  {
   "cell_type": "code",
   "execution_count": null,
   "metadata": {
    "id": "j0Y3-MX6UPng"
   },
   "outputs": [],
   "source": [
    "problem7_list1 = [1, 3, '6', '4', 4, 3, 11, 13, 7]\n",
    "problem7_list2 = [2, 3, '5', '6', 4, 7]\n",
    "\n",
    "# your code"
   ]
  },
  {
   "cell_type": "markdown",
   "metadata": {
    "id": "yhfMvOWrUQIB"
   },
   "source": [
    "### Задание 8\n",
    "\n",
    "Вам дан список из чисел. Выведите индекс числа и True/False в зависимости от того, делится ли это число нацело на 3\n",
    "\n",
    "**Например:**\n",
    "\n",
    "Input: `list_a = [1, 2, 3, 4, 5, 6]`\n",
    "\n",
    "Output: \n",
    "\n",
    "0 False\n",
    "\n",
    "1 False\n",
    "\n",
    "2 True\n",
    "\n",
    "3 False\n",
    "\n",
    "4 False\n",
    "\n",
    "5 True"
   ]
  },
  {
   "cell_type": "code",
   "execution_count": null,
   "metadata": {
    "id": "lmKAFPYHURNt"
   },
   "outputs": [],
   "source": [
    "problem8_list = [1, 2, 3, 7, 9, 4, 6, 12, 11, 15, 16, 21]\n",
    "\n",
    "# your code"
   ]
  },
  {
   "cell_type": "markdown",
   "metadata": {
    "id": "ad6AjQeeURnN"
   },
   "source": [
    "### Задание 9\n",
    "\n",
    "Реализуйте код, который складывает все цифры целого числа. Число подается через клавиатуру посредством функции `input`.\n",
    "\n",
    "**Например:**\n",
    "\n",
    "Input: 123\n",
    "\n",
    "Output: 6"
   ]
  },
  {
   "cell_type": "code",
   "execution_count": null,
   "metadata": {
    "id": "OKaHcoFGUS2z"
   },
   "outputs": [],
   "source": [
    "# your code"
   ]
  },
  {
   "cell_type": "markdown",
   "metadata": {
    "id": "JC6cC8-dUTCN"
   },
   "source": [
    "### $*$ Задание 10\n",
    "\n",
    "Вам дан список из списков. Требуется из него составить словарь, где ключ - первый элемент внутренних списков, а второй элемент - остальные значения внутренних списков. \n",
    "* Если внутренний список состоит из 2 элементов, то значению ключа должно соответствовать число. \n",
    "* Если внутренний список состоит из 3-х и более элементов, то значению ключа должен соответствовать список из этих чисел. \n",
    "* Если внутренний список состоит только из 1-го элемента, то значению ключа должно соответствовать значение `None`. \n",
    "\n",
    "**Например:**\n",
    "\n",
    "Input: `list_a = [[1, 2], [5,2,3,4], [7, 4, 3], [4, 6,7, True], [9]]`\n",
    "\n",
    "Output: `{1: 2, 5: [2,3,4], 7: [4,3], 4: [6,7, True], 9: None}`\n",
    "\n",
    "Считайте, что первые элементы подсписков не повторяются. Сам список из списков дан ниже."
   ]
  },
  {
   "cell_type": "code",
   "execution_count": null,
   "metadata": {
    "id": "q6qXGq0oUVaA"
   },
   "outputs": [],
   "source": [
    "problem10_list = [[4, 'a', 7], ['2', 3, 5], [2, 8, 8], [1, 2], ['5', 4, 1], [3]]\n",
    "\n",
    "# your code"
   ]
  },
  {
   "cell_type": "markdown",
   "metadata": {
    "id": "sf0G6XHzUXFQ"
   },
   "source": [
    "### $*$ Задание 11\n",
    "\n",
    "Реализуйте код, который преобразовывает список из элементов в словарь, в котором ключ - элемент списка, а значение - сколько раз этот элемент встречается в списке\n",
    "\n",
    "**Например:**\n",
    "\n",
    "Input: `list_a = [1, 1, 2, 3, 1, 3, 7, 9, 4, 3, 1]`\n",
    "\n",
    "Output: `{1: 4, 2: 1, 3: 3, 4: 1, 7: 1, 9: 1}` "
   ]
  },
  {
   "cell_type": "code",
   "execution_count": null,
   "metadata": {
    "id": "k06oXA2dUYGF"
   },
   "outputs": [],
   "source": [
    "# your code"
   ]
  },
  {
   "cell_type": "markdown",
   "metadata": {
    "id": "9XZV3hdiUYeU"
   },
   "source": [
    "### $*$ Задание 12\n",
    "\n",
    "Реализуйте код, который преобразовывает список из названий файловв список из расщирений этих файлов (**hint**: расширение идет после точки, однако Вам нужно исключить случаи, когда точка может не относиться к расширению)\n",
    "\n",
    "В случае если у названия файла отсутствует расширение, выведите сообщение об этом (текст сообщения на Ваше усмотрение)\n",
    "\n",
    "**Например:**\n",
    "\n",
    "Input: ```[file.name', 'file.name.py', 'file.name.', 'filename']```\n",
    "\n",
    "Output: ```['name', 'py', 'Нет расширения', 'Нет расширения']```\n",
    "\n",
    "Подумайте над различными возможными случаями при написании Вашей функции."
   ]
  },
  {
   "cell_type": "code",
   "execution_count": null,
   "metadata": {
    "id": "hXBmszS7UZdB"
   },
   "outputs": [],
   "source": [
    "# your code"
   ]
  },
  {
   "cell_type": "markdown",
   "metadata": {
    "id": "OBqHnBVbhwr-"
   },
   "source": [
    "### $*$ Задание 13\n",
    "\n",
    "Реализуйте код, который берет на вход число и возвращает True/False в зависимости от того, является ли число простым."
   ]
  },
  {
   "cell_type": "code",
   "execution_count": null,
   "metadata": {
    "id": "BLj-3LKchwyV"
   },
   "outputs": [],
   "source": [
    "# your code"
   ]
  },
  {
   "cell_type": "markdown",
   "metadata": {
    "id": "LIwkVxqxh8z5"
   },
   "source": [
    "### $*$ Задание 14\n",
    "\n",
    "Реализуйте код, вычисляющий наибольший общий делитель по алгоритму Евклида."
   ]
  },
  {
   "cell_type": "code",
   "execution_count": null,
   "metadata": {
    "id": "0D_Rg0pCh87R"
   },
   "outputs": [],
   "source": [
    "# your code"
   ]
  },
  {
   "cell_type": "markdown",
   "metadata": {
    "id": "zjG6KfA_iH5H"
   },
   "source": [
    "### $*$ Задание 15\n",
    "\n",
    "Реализуйте код, который на вход принимает 2 списка с числовыми элементами и возвращает список из списков, где 1-й элемент в таком списке - попарное произведение чисел, а второй - сумма чисел. Если массивы разной длины, то проходите по ним пока у элемента есть пара (как ниже в примере)\n",
    "\n",
    "**Например:**\n",
    "\n",
    "Input: \n",
    "\n",
    "`list_1 = [1, 2, 3, 4, 7]`\n",
    "\n",
    "`list_2 = [2, 3, 4, 5]`\n",
    "\n",
    "Output: `[[2, 3], [6, 5], [12, 7], [20, 9]]`"
   ]
  },
  {
   "cell_type": "code",
   "execution_count": null,
   "metadata": {
    "id": "Tbe0GrzUiIBg"
   },
   "outputs": [],
   "source": [
    "# your code"
   ]
  }
 ],
 "metadata": {
  "colab": {
   "collapsed_sections": [],
   "name": "Python_HW_1.ipynb",
   "provenance": []
  },
  "kernelspec": {
   "display_name": "Python 3 (ipykernel)",
   "language": "python",
   "name": "python3"
  },
  "language_info": {
   "codemirror_mode": {
    "name": "ipython",
    "version": 3
   },
   "file_extension": ".py",
   "mimetype": "text/x-python",
   "name": "python",
   "nbconvert_exporter": "python",
   "pygments_lexer": "ipython3",
   "version": "3.10.9"
  }
 },
 "nbformat": 4,
 "nbformat_minor": 1
}
