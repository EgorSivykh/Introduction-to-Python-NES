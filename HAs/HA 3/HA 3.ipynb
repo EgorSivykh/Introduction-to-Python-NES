{
 "cells": [
  {
   "cell_type": "markdown",
   "metadata": {
    "id": "AlTY6gwexooa"
   },
   "source": [
    "# **<center> Introduction to Python for Practical Problems </center>**\n",
    "# **<center> New Economic School, MAE 2025 </center>**\n",
    "## **<center> Home Assignment 3 </center>**"
   ]
  },
  {
   "cell_type": "markdown",
   "metadata": {},
   "source": [
    "# NumPy"
   ]
  },
  {
   "cell_type": "code",
   "execution_count": 4,
   "metadata": {
    "id": "rWw65Nflm8ZL"
   },
   "outputs": [],
   "source": [
    "import numpy as np"
   ]
  },
  {
   "cell_type": "markdown",
   "metadata": {
    "id": "GIbBs3CnxqO7"
   },
   "source": [
    "### Задание 1.\n",
    "\n",
    "(1) Создайте матрицу размерности 4x5 из стандартного нормального распределения\n",
    "\n",
    "(2) Посчитайте определитель матрицы\n",
    "\n",
    "(3) Оберните матрицу"
   ]
  },
  {
   "cell_type": "code",
   "execution_count": 5,
   "metadata": {
    "id": "KE-Drs4-xnty"
   },
   "outputs": [],
   "source": [
    "# your code"
   ]
  },
  {
   "cell_type": "markdown",
   "metadata": {
    "id": "0kUalHnBxt4s"
   },
   "source": [
    "### Задание 2.\n",
    "\n",
    "(1) Создайте 2 матрицы $A$ и $B$ размерности 4x4 из нормального распределения (метод `uniform`  в модуле `random`) со средними 1 и 2 и стандартными отклонениями 1 и 4.\n",
    "\n",
    "(2) Вычислите результат для следующего выражения: $(A + B)*B$\n",
    "\n",
    "(3) Выведите диагональ матрицы выше"
   ]
  },
  {
   "cell_type": "code",
   "execution_count": 6,
   "metadata": {
    "id": "FdJxLfIUxusO"
   },
   "outputs": [],
   "source": [
    "# your code"
   ]
  },
  {
   "cell_type": "markdown",
   "metadata": {
    "id": "mYOLZ5kSxu27"
   },
   "source": [
    "### Задание 3.\n",
    "\n",
    "(1) Создайте вектор со 100 элементами из равномерного распределения с $a = -5$ и $b = 5$\n",
    "\n",
    "(2) Создайте функцию, которая на вход берет вектор и создает $k$ векторов длиной $m$. Каждый из $k$ векторов создается как подвыборка/подвектор с возвращением из исходного вектора (**hint**: Вам может потребоваться функция `choice` в модуле `random`). Для каждого $k$-го вектора ситается среднее, которое записывается в результирующий вектор. Выведите этот результирующий вектор (состоящий из средних по $k$ векторам)"
   ]
  },
  {
   "cell_type": "code",
   "execution_count": 7,
   "metadata": {
    "id": "e7oLSaN-xvsv"
   },
   "outputs": [],
   "source": [
    "# your code"
   ]
  },
  {
   "cell_type": "markdown",
   "metadata": {},
   "source": [
    "### Задание 4.\n",
    "\n",
    "Реализуйте функцию, которая вычисляет коэффициенты регрессии при помощи МНК. Сделайте все честно, используя только операции перемножения матриц и оборачивания."
   ]
  },
  {
   "cell_type": "code",
   "execution_count": 8,
   "metadata": {},
   "outputs": [],
   "source": [
    "# your code"
   ]
  },
  {
   "cell_type": "markdown",
   "metadata": {},
   "source": [
    "### Задание 5.\n",
    "\n",
    "Реализуйте функцию, которая берет на вход двумерную матрицу, а возвращает местоположение ее минимального, максимального и медианного значения в виде словаря вида:\n",
    "\n",
    "{'$min$': ($i_{min}$, $j_{min}$), '$max$': ($i_{max}$, $j_{max}$), '$median$': ($i_{median}$, $j_{median}$)}."
   ]
  },
  {
   "cell_type": "code",
   "execution_count": 9,
   "metadata": {},
   "outputs": [],
   "source": [
    "# your code"
   ]
  },
  {
   "cell_type": "markdown",
   "metadata": {},
   "source": [
    "---------------"
   ]
  },
  {
   "cell_type": "markdown",
   "metadata": {},
   "source": [
    "# Pandas"
   ]
  },
  {
   "cell_type": "markdown",
   "metadata": {},
   "source": [
    "В этом блоке заданий Вам предстоит поработь с данными по магазинным продажам, выполнив ряд аналитических задач.\n",
    "\n",
    "Описание полей в данных:\n",
    "\n",
    "* ID - an Id that represents a (Shop, Item) tuple within the test set\n",
    "* shop_id - unique identifier of a shop\n",
    "* item_id - unique identifier of a product\n",
    "* category_id - unique identifier of category\n",
    "* item_cnt_day - number of products sold. \n",
    "* item_price - current price of an item\n",
    "* date - date in format dd/mm/yyyy\n",
    "* date_block_num - a consecutive month number, used for convenience. January 2013 is 0, February 2013 is 1,…, October 2015 is 33\n",
    "* item_name - name of item\n",
    "* shop_name - name of shop\n",
    "* category_name - name of category"
   ]
  },
  {
   "cell_type": "code",
   "execution_count": 10,
   "metadata": {},
   "outputs": [],
   "source": [
    "import pandas as pd"
   ]
  },
  {
   "cell_type": "markdown",
   "metadata": {},
   "source": [
    "### Задание 6.\n",
    "\n",
    "(1) Прочтите файл **sales.csv** с помощью **Pandas**\n",
    "\n",
    "(2) Отобразите 3 случайных наблюдения\n",
    "\n",
    "(3) Отобразите 4 последних наблюдения\n",
    "\n",
    "(4) Сколько наблюдений в данных?"
   ]
  },
  {
   "cell_type": "code",
   "execution_count": 11,
   "metadata": {},
   "outputs": [],
   "source": [
    "# your code"
   ]
  },
  {
   "cell_type": "markdown",
   "metadata": {},
   "source": [
    "### Задание 7.\n",
    "\n",
    "Уберите из данных по продажам те наблюдения, у которых число покупок или цена меньше 0."
   ]
  },
  {
   "cell_type": "code",
   "execution_count": null,
   "metadata": {},
   "outputs": [],
   "source": [
    "# your code"
   ]
  },
  {
   "cell_type": "markdown",
   "metadata": {},
   "source": [
    "### Задание 8.\n",
    "\n",
    "Для полей цены и количества купленного товара отобразите описательную статистику."
   ]
  },
  {
   "cell_type": "code",
   "execution_count": null,
   "metadata": {},
   "outputs": [],
   "source": [
    "# your code"
   ]
  },
  {
   "cell_type": "markdown",
   "metadata": {},
   "source": [
    "### Задание 9.\n",
    "\n",
    "Выведите число уникальных магазинов и число уникальных предметов."
   ]
  },
  {
   "cell_type": "code",
   "execution_count": null,
   "metadata": {},
   "outputs": [],
   "source": [
    "# your code"
   ]
  },
  {
   "cell_type": "markdown",
   "metadata": {},
   "source": [
    "### Задание 10.\n",
    "\n",
    "Переведите колонку с датой в формат **datetime**."
   ]
  },
  {
   "cell_type": "code",
   "execution_count": 14,
   "metadata": {},
   "outputs": [],
   "source": [
    "# your code"
   ]
  },
  {
   "cell_type": "markdown",
   "metadata": {},
   "source": [
    "### Задание 11.\n",
    "\n",
    "Создайте переменную **Year_Month**, заменив дату текущего формата на дату формата 'Y-M'. Проверьте тип данных новой колонки.\n",
    "\n",
    "**Hint**: попробуйте присмотреться к методу `to_period` в модуле `dt`. Мы этот метод не разбирали, но он работает похожим с тем, что мы рассмотрели на занятии, образом."
   ]
  },
  {
   "cell_type": "code",
   "execution_count": null,
   "metadata": {},
   "outputs": [],
   "source": [
    "# your code"
   ]
  },
  {
   "cell_type": "markdown",
   "metadata": {},
   "source": [
    "### Задание 12.\n",
    "\n",
    "Создайте переменную **item_gi** (item gross income) путем умножения цены купленного товара и на его количество."
   ]
  },
  {
   "cell_type": "code",
   "execution_count": null,
   "metadata": {},
   "outputs": [],
   "source": [
    "# your code"
   ]
  },
  {
   "cell_type": "markdown",
   "metadata": {},
   "source": [
    "### Задание 13.\n",
    "\n",
    "(1) Посчитайте суммарные объемы продаж (item_gi) по дням (date). **Hint:** Вам понадобится группировка.\n",
    "\n",
    "(2) Посчитайте суммарные объемы продаж (item_gi) по дням (date) для каждого магазина (shop_id). **Hint:** Вам понадобится группировка.\n",
    "\n",
    "Для каждого из расчетов запишите их результат в переменные. Также примените метод `reset_index` к полученным результатам, указав новое имя **вместо item_gi**."
   ]
  },
  {
   "cell_type": "code",
   "execution_count": null,
   "metadata": {},
   "outputs": [],
   "source": [
    "# your code"
   ]
  },
  {
   "cell_type": "markdown",
   "metadata": {},
   "source": [
    "### Задание 14.\n",
    "\n",
    "Присоедините результаты расчетов из задания 13 к общей таблице по продажам, используя тип соединения **left**\n",
    "\n",
    "Поля, по которым соединять:\n",
    "* для первого результата: date\n",
    "* для второго результата: date, shop_id\n",
    "\n",
    "Создайте переменную доли суммы продаж на дату в каждом магазине к продажам на дату по всем магазинам."
   ]
  },
  {
   "cell_type": "code",
   "execution_count": null,
   "metadata": {},
   "outputs": [],
   "source": [
    "# your code"
   ]
  },
  {
   "cell_type": "markdown",
   "metadata": {},
   "source": [
    "### Задание 15.\n",
    "\n",
    "К таблице с продажами присоедините таблицы **items.csv** и **item_categories.csv**. Поля, по которым нужно проводить соединение, попробуйте определить самостоятельно."
   ]
  },
  {
   "cell_type": "code",
   "execution_count": null,
   "metadata": {},
   "outputs": [],
   "source": [
    "# your code"
   ]
  },
  {
   "cell_type": "markdown",
   "metadata": {},
   "source": [
    "### Задание 16.\n",
    "\n",
    "В получившейся таблице создайте колонку **cat_name_trim**, состояющую из первого слова из колонки **category_name**. Затем посчитайте число уникальных значений в новой колонке.\n",
    "\n",
    "**Hint**: Вам нужно будет воспользоваться методом `apply`."
   ]
  },
  {
   "cell_type": "code",
   "execution_count": 23,
   "metadata": {},
   "outputs": [],
   "source": [
    "# your code"
   ]
  },
  {
   "cell_type": "markdown",
   "metadata": {},
   "source": [
    "### * Задание 17.\n",
    "\n",
    "Объелиним все, что мы успели в этой домашке сделать. \n",
    "\n",
    "Проиджоинив таблицу **shops.csv** к получившейся в задании 16 таблице, посчитайте долю объема продаж магазинов, имевших в названии слово **Moscow**."
   ]
  },
  {
   "cell_type": "code",
   "execution_count": null,
   "metadata": {},
   "outputs": [],
   "source": [
    "# your code"
   ]
  }
 ],
 "metadata": {
  "colab": {
   "collapsed_sections": [],
   "name": "Python_HW_2.ipynb",
   "provenance": []
  },
  "kernelspec": {
   "display_name": "Python 3 (ipykernel)",
   "language": "python",
   "name": "python3"
  },
  "language_info": {
   "codemirror_mode": {
    "name": "ipython",
    "version": 3
   },
   "file_extension": ".py",
   "mimetype": "text/x-python",
   "name": "python",
   "nbconvert_exporter": "python",
   "pygments_lexer": "ipython3",
   "version": "3.10.9"
  }
 },
 "nbformat": 4,
 "nbformat_minor": 1
}
