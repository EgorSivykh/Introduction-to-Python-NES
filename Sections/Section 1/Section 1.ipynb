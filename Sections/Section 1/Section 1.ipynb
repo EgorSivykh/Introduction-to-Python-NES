{
 "cells": [
  {
   "cell_type": "markdown",
   "metadata": {},
   "source": [
    "# **<center> Introduction to Python for Practical Problems </center>**\n",
    "# **<center> New Economic School, MAE 2026 </center>**\n",
    "## **<center> Section 1 </center>**\n",
    "\n",
    "План:\n",
    "\n",
    "* Установка среды разработки\n",
    "* Основные правила написания кода на Python\n",
    "* Типы переменных\n",
    "* Операции с переменными\n",
    "* Контейнеры и операции над ними\n",
    "* Условные операторы\n",
    "* Циклы\n",
    "* Импортирование модулей"
   ]
  },
  {
   "cell_type": "markdown",
   "metadata": {},
   "source": [
    "# 0. Установка среды для написания кода на Python"
   ]
  },
  {
   "cell_type": "markdown",
   "metadata": {},
   "source": [
    "Есть несколько широко распространенных сред разработки, или IDE, для написания кода на Python. Использование той или иной IDE зависит от целей, которые преследует тот, кто пишет код.\n",
    "\n",
    "В РЭШ вам часто будет полезен Python для того, чтобы работать с данными: исследовать их и визуализировать; проводить расчеты; строить и применять эконометрические модели, а также модели машинного обучения или глубинного обучения."
   ]
  },
  {
   "cell_type": "markdown",
   "metadata": {},
   "source": [
    "На начальном этапе я бы посоветовал присмотреться к двум (по факту практически одинаковым) вариантам:\n",
    "\n",
    "1. Anaconda3 - https://www.anaconda.com/download\n",
    "\n",
    "В данном случае необходимо установить Анаконду, в которой в последствии использовать Jupyter Notebook\n",
    "\n",
    "2. Google Colaboratory - https://www.google.com/intl/ru/drive/\n",
    "\n",
    "Тут ничего скачивать не надо. Вы просто заходите в свой Гугл-Диск, там же создаете через ПКМ файл ```Google Colaboratory``` и наслаждаетесь кодингом :)"
   ]
  },
  {
   "cell_type": "markdown",
   "metadata": {},
   "source": [
    "# 1. Основные правила написания кода на Python"
   ]
  },
  {
   "cell_type": "markdown",
   "metadata": {},
   "source": [
    "Для того, чтобы код был читабельным, необходимо соблюдать ряд рекомендаций, прописанных в **PEP-8** - руководстве по написанию кода на Python. Ссылка: https://pythonworld.ru/osnovy/pep-8-rukovodstvo-po-napisaniyu-koda-na-python.html"
   ]
  },
  {
   "cell_type": "markdown",
   "metadata": {},
   "source": [
    "## 1.1. Пробелы и отступы"
   ]
  },
  {
   "cell_type": "markdown",
   "metadata": {},
   "source": [
    "Всегда окружайте эти бинарные операторы одним пробелом с каждой стороны: \n",
    "* присваивания (=, +=, -= и другие)\n",
    "* сравнения (==, <, >, !=, <>, <=, >=, in, not in, is, is not)\n",
    "* логические (and, or, not)"
   ]
  },
  {
   "cell_type": "code",
   "execution_count": 1,
   "metadata": {},
   "outputs": [
    {
     "data": {
      "text/plain": [
       "(4, 2)"
      ]
     },
     "execution_count": 1,
     "metadata": {},
     "output_type": "execute_result"
    }
   ],
   "source": [
    "a = 4\n",
    "b = 6 - 3\n",
    "b -= 1 # Вычитание из b единицы\n",
    "\n",
    "a, b"
   ]
  },
  {
   "cell_type": "markdown",
   "metadata": {},
   "source": [
    "Также удобно разграничивать пробелами элементы внутри списков, кортежей и т. д."
   ]
  },
  {
   "cell_type": "code",
   "execution_count": 2,
   "metadata": {},
   "outputs": [],
   "source": [
    "mylist = [1, 2, 3]\n",
    "mytuple = (1, 2, 3)\n",
    "mydict = {'one': 1, 'two': 2, 'three': 3}\n",
    "myset = {1, 2, 3}"
   ]
  },
  {
   "cell_type": "markdown",
   "metadata": {},
   "source": [
    "Однако использовать пробелы везде и всюду тоже не следует :)"
   ]
  },
  {
   "cell_type": "code",
   "execution_count": 3,
   "metadata": {},
   "outputs": [],
   "source": [
    "mylist = [ 1, 2, 3 ]                          # Так не надо\n",
    "mytuple = (1 , 2 , 3)                         # Так не надо\n",
    "mydict = {'one' : 1, 'two' : 2, 'three' : 3}  # Так не надо\n",
    "myset = { 1 , 2 , 3 }                         # Так не надо"
   ]
  },
  {
   "cell_type": "markdown",
   "metadata": {},
   "source": [
    "Также есть важное уточнение: при вышеперечисленных операциях присваивания, сравнения и логических, которые находятся внури любого рода скобок, пробел делать не стоит:"
   ]
  },
  {
   "cell_type": "code",
   "execution_count": 4,
   "metadata": {},
   "outputs": [],
   "source": [
    "a = 4\n",
    "b = 2\n",
    "\n",
    "mylist = [a-1, b+7, a-b] # Так правильно\n",
    "mylist = [a - 1, b + 7, a - b] # Так не надо! Это загрязняет код!"
   ]
  },
  {
   "cell_type": "markdown",
   "metadata": {},
   "source": [
    "При высоком уровне вложенности словаря или других коллекций удобно делать переносы следующим образом"
   ]
  },
  {
   "cell_type": "code",
   "execution_count": 5,
   "metadata": {},
   "outputs": [],
   "source": [
    "mydict = {\n",
    "    'math': {\n",
    "        'nikita': [5, 4, 4, 5, 3],\n",
    "        'daria': [2, 4, 5, 5, 5]\n",
    "    },\n",
    "    'microeconomics': {\n",
    "        'nikita': [5, 4, 5, 3],\n",
    "        'daria': [2, 5, 5, 5]\n",
    "    },\n",
    "    'macroeconomics': {\n",
    "        'nikita': [5, 5],\n",
    "        'daria': [4, 5]\n",
    "    }\n",
    "}"
   ]
  },
  {
   "cell_type": "markdown",
   "metadata": {},
   "source": [
    "Также при выполнении операций умножения ($*$), деления ($/$) и возведения в степень ($**$) иногда пробелы ставить не надо:"
   ]
  },
  {
   "cell_type": "code",
   "execution_count": 6,
   "metadata": {},
   "outputs": [],
   "source": [
    "a = 4\n",
    "b = 2\n",
    "\n",
    "c = a * b\n",
    "d = a / b\n",
    "e = a ** b\n",
    "\n",
    "f = a*b + a/b + a**b"
   ]
  },
  {
   "cell_type": "markdown",
   "metadata": {},
   "source": [
    "Во многих языках программирования для разграничения блоков кода используются фигурные скобки. В Python для этого используются отступы"
   ]
  },
  {
   "cell_type": "code",
   "execution_count": 7,
   "metadata": {},
   "outputs": [
    {
     "name": "stdout",
     "output_type": "stream",
     "text": [
      "1\n",
      "2\n",
      "3\n"
     ]
    }
   ],
   "source": [
    "# пример отступов во вложенных циклах for\n",
    "for i in [1, 2, 3]:\n",
    "    print(i) # первая строка в блоке for i"
   ]
  },
  {
   "cell_type": "code",
   "execution_count": 8,
   "metadata": {},
   "outputs": [
    {
     "name": "stdout",
     "output_type": "stream",
     "text": [
      "1\n",
      "2\n",
      "3\n",
      "2\n",
      "3\n",
      "4\n",
      "3\n",
      "4\n",
      "5\n",
      "Циклы закончились\n"
     ]
    }
   ],
   "source": [
    "# пример отступов во вложенных циклах for\n",
    "for i in [1, 2, 3]:\n",
    "    print (i) # первая строка в блоке for i\n",
    "    for j in [1, 2]:\n",
    "        print(i+j) # последняя строка в блоке for j\n",
    "print(\"Циклы закончились\")"
   ]
  },
  {
   "cell_type": "markdown",
   "metadata": {},
   "source": [
    "## 1.2. Перенос кода"
   ]
  },
  {
   "cell_type": "code",
   "execution_count": 9,
   "metadata": {},
   "outputs": [
    {
     "name": "stdout",
     "output_type": "stream",
     "text": [
      "11\n",
      "11\n"
     ]
    }
   ],
   "source": [
    "pervaya_peremennaya_1 = 1\n",
    "pervaya_peremennaya_2 = 2\n",
    "pervaya_peremennaya_3 = 3\n",
    "pervaya_peremennaya_4 = 4\n",
    "\n",
    "long_computation = pervaya_peremennaya_2 + pervaya_peremennaya_2 \\\n",
    "                   + pervaya_peremennaya_3 + pervaya_peremennaya_4\n",
    "\n",
    "print(long_computation)\n",
    "\n",
    "long_computation = (pervaya_peremennaya_2 + pervaya_peremennaya_2 +\n",
    "                    pervaya_peremennaya_3 + pervaya_peremennaya_4) \n",
    "\n",
    "print(long_computation)"
   ]
  },
  {
   "cell_type": "code",
   "execution_count": 10,
   "metadata": {},
   "outputs": [
    {
     "data": {
      "text/plain": [
       "([[1, 2, 3], [4, 5, 6], [7, 8, 9]], [[1, 2, 3], [4, 5, 6], [7, 8, 9]])"
      ]
     },
     "execution_count": 10,
     "metadata": {},
     "output_type": "execute_result"
    }
   ],
   "source": [
    "# список списков\n",
    "list_of_lists = [[1, 2, 3], [4, 5, 6], [7, 8, 9]]\n",
    "\n",
    "# такой список списков легче читается\n",
    "easy_to_read_list_of_lists = [[1, 2, 3],\n",
    "                              [4, 5, 6],\n",
    "                              [7, 8, 9]] \n",
    "\n",
    "list_of_lists, easy_to_read_list_of_lists"
   ]
  },
  {
   "cell_type": "markdown",
   "metadata": {},
   "source": [
    "# 2. Типы переменных"
   ]
  },
  {
   "cell_type": "markdown",
   "metadata": {},
   "source": [
    "Можно выделить следующие типы, которые потребуются в работе - целые числа (integer или ```int``` в Python), числа с плавающие точкой (```float```), строки (string или ```str```), а также булевы переменные. \n",
    "\n",
    "Присваивание в Python происходит через знак ```=```. Тип данных можно посмотреть через команду ```type(..)```"
   ]
  },
  {
   "cell_type": "markdown",
   "metadata": {},
   "source": [
    "Python имеет динамическую типизацию. Таким образом, Вам не надо указывать тип переменной при присвоени как в C++, Java или других языках со статической типизацией. "
   ]
  },
  {
   "cell_type": "code",
   "execution_count": 11,
   "metadata": {},
   "outputs": [
    {
     "name": "stdout",
     "output_type": "stream",
     "text": [
      "4 <class 'int'>\n",
      "1.5 <class 'float'>\n",
      "True <class 'bool'>\n",
      "Hello <class 'str'>\n"
     ]
    }
   ],
   "source": [
    "a = 4\n",
    "b = 1.5\n",
    "c = True\n",
    "d = 'Hello'\n",
    "\n",
    "print(a, type(a))\n",
    "print(b, type(b))\n",
    "print(c, type(c))\n",
    "print(d, type(d))"
   ]
  },
  {
   "cell_type": "code",
   "execution_count": 12,
   "metadata": {},
   "outputs": [
    {
     "name": "stdout",
     "output_type": "stream",
     "text": [
      "4 <class 'int'>\n",
      "1.5 <class 'float'>\n",
      "True <class 'bool'>\n",
      "Hello <class 'str'>\n"
     ]
    }
   ],
   "source": [
    "a, b, c, d = 4, 1.5, True, 'Hello'\n",
    "\n",
    "print(a, type(a))\n",
    "print(b, type(b))\n",
    "print(c, type(c))\n",
    "print(d, type(d))"
   ]
  },
  {
   "cell_type": "markdown",
   "metadata": {},
   "source": [
    "Можно проверить совпадение типа переменной с каким-то типом данных. Полезно при проверке условий через оператор `if`."
   ]
  },
  {
   "cell_type": "code",
   "execution_count": 13,
   "metadata": {},
   "outputs": [
    {
     "name": "stdout",
     "output_type": "stream",
     "text": [
      "True\n",
      "False\n",
      "True\n",
      "True\n"
     ]
    }
   ],
   "source": [
    "a, b, c, d = 4, 1.5, True, 'Hello'\n",
    "\n",
    "print(isinstance(a, int))\n",
    "print(isinstance(b, int))\n",
    "print(isinstance(c, bool))\n",
    "print(isinstance(d, str))"
   ]
  },
  {
   "cell_type": "markdown",
   "metadata": {},
   "source": [
    "Данные можно также вводить с клавиатуры посредством команды ```input()```. Все введенные таким образом переменные имеют строковый тип. Для того, чтобы перевести значение в нужный тип, в данном случае необходимо использовать функции ```int()```, ```float()```, ```bool()```."
   ]
  },
  {
   "cell_type": "code",
   "execution_count": 14,
   "metadata": {},
   "outputs": [
    {
     "name": "stdout",
     "output_type": "stream",
     "text": [
      "Вы ввели следующее значение:  <class 'str'>\n"
     ]
    }
   ],
   "source": [
    "a = input()\n",
    "print(f'Вы ввели следующее значение: {a}', type(a))"
   ]
  },
  {
   "cell_type": "code",
   "execution_count": 15,
   "metadata": {},
   "outputs": [
    {
     "ename": "ValueError",
     "evalue": "invalid literal for int() with base 10: ''",
     "output_type": "error",
     "traceback": [
      "\u001b[0;31m---------------------------------------------------------------------------\u001b[0m",
      "\u001b[0;31mValueError\u001b[0m                                Traceback (most recent call last)",
      "Cell \u001b[0;32mIn[15], line 1\u001b[0m\n\u001b[0;32m----> 1\u001b[0m a \u001b[38;5;241m=\u001b[39m \u001b[38;5;28;43mint\u001b[39;49m\u001b[43m(\u001b[49m\u001b[38;5;28;43minput\u001b[39;49m\u001b[43m(\u001b[49m\u001b[43m)\u001b[49m\u001b[43m)\u001b[49m\n\u001b[1;32m      2\u001b[0m b \u001b[38;5;241m=\u001b[39m \u001b[38;5;28mfloat\u001b[39m(\u001b[38;5;28minput\u001b[39m())\n\u001b[1;32m      3\u001b[0m c \u001b[38;5;241m=\u001b[39m \u001b[38;5;28mbool\u001b[39m(\u001b[38;5;28minput\u001b[39m())\n",
      "\u001b[0;31mValueError\u001b[0m: invalid literal for int() with base 10: ''"
     ]
    }
   ],
   "source": [
    "a = int(input())\n",
    "b = float(input())\n",
    "c = bool(input())\n",
    "\n",
    "print(f'Вы ввели следующее значение: {a}', type(a))\n",
    "print(f'Вы ввели следующее значение: {b}', type(b))\n",
    "print(f'Вы ввели следующее значение: {c}', type(c))"
   ]
  },
  {
   "cell_type": "markdown",
   "metadata": {},
   "source": [
    "# 3. Операции с переменными"
   ]
  },
  {
   "cell_type": "markdown",
   "metadata": {},
   "source": [
    "## 3.1. Числовые переменные"
   ]
  },
  {
   "cell_type": "code",
   "execution_count": 16,
   "metadata": {},
   "outputs": [
    {
     "name": "stdout",
     "output_type": "stream",
     "text": [
      "Sum of 4 and 2 is 6\n",
      "Product of 4 and 2 is 8\n",
      "Division of 4 on 2 is 2.0\n",
      "4 to the power of 2 is 16\n",
      "Integer (floor) division of 4 on 2 is 2\n",
      "Remainder of division of 4 on 2 is 0\n",
      "Rounded manipulation of 4 and 2 is 1.14\n",
      "4 = 2 is False\n",
      "4 > 2 is True\n",
      "4 >= 2 is True\n"
     ]
    }
   ],
   "source": [
    "a, b = 4, 2\n",
    "\n",
    "ab_sum = a + b\n",
    "ab_product = a * b\n",
    "ab_division = a / b\n",
    "ab_power = a ** b\n",
    "ab_floor_division = a // b\n",
    "ab_remainder_division = a % b\n",
    "ab_rounded = round(a * b / 7, 2)\n",
    "ab_comparison_equality = (a == b)\n",
    "ab_comparison_geq = (a >= b)\n",
    "ab_comparison_greater = (a > b)\n",
    "\n",
    "print(f'Sum of {a} and {b} is {ab_sum}')\n",
    "print(f'Product of {a} and {b} is {ab_product}')\n",
    "print(f'Division of {a} on {b} is {ab_division}')\n",
    "print(f'{a} to the power of {b} is {ab_power}')\n",
    "print(f'Integer (floor) division of {a} on {b} is {ab_floor_division}')\n",
    "print(f'Remainder of division of {a} on {b} is {ab_remainder_division}')\n",
    "print(f'Rounded manipulation of {a} and {b} is {ab_rounded}')\n",
    "print(f'{a} = {b} is {ab_comparison_equality}')\n",
    "print(f'{a} > {b} is {ab_comparison_greater}')\n",
    "print(f'{a} >= {b} is {ab_comparison_geq}')"
   ]
  },
  {
   "cell_type": "markdown",
   "metadata": {},
   "source": [
    "## 3.2. Логические переменные"
   ]
  },
  {
   "cell_type": "code",
   "execution_count": 17,
   "metadata": {},
   "outputs": [
    {
     "name": "stdout",
     "output_type": "stream",
     "text": [
      "Sum of True and False is 1\n",
      "Product of True and False is 0\n",
      "The statement that True is False is False\n",
      "And condition on True and False is False\n",
      "True in integer form is 1\n"
     ]
    }
   ],
   "source": [
    "a, b = True, False\n",
    "\n",
    "ab_sum = a + b\n",
    "ab_product = a * b\n",
    "ab_comparison = a is b\n",
    "ab_condition = a and b\n",
    "\n",
    "a_integer = int(a)\n",
    "\n",
    "print(f'Sum of {a} and {b} is {ab_sum}')\n",
    "print(f'Product of {a} and {b} is {ab_product}')\n",
    "print(f'The statement that {a} is {b} is {ab_comparison}')\n",
    "print(f'And condition on {a} and {b} is {ab_condition}')\n",
    "print(f'{a} in integer form is {a_integer}')"
   ]
  },
  {
   "cell_type": "markdown",
   "metadata": {},
   "source": [
    "## 3.3. Строковые переменные"
   ]
  },
  {
   "cell_type": "code",
   "execution_count": 18,
   "metadata": {},
   "outputs": [
    {
     "name": "stdout",
     "output_type": "stream",
     "text": [
      "Slicing the first 3 characters of variable a: New\n",
      "All characters till 3 last characters of variable a: New Economic Sch\n",
      "The second and the third characters of variable a: ew\n",
      "All the charactes from the third one without 2 last characters: w Economic Scho\n",
      "\n",
      "\n",
      "Sum of \"New Economic School\" and \"Studies\" is: \"New Economic SchoolStudies\"\n",
      "Multiplication of \"New Economic School\" by \"3\" is: \"New Economic SchoolNew Economic SchoolNew Economic School\"\n",
      "Taking multiplication and sum of \"New Economic School\" and \"Studies\" is: \"New Economic SchoolNew Economic SchoolNew Economic School StudiesStudies\"\n"
     ]
    }
   ],
   "source": [
    "a = 'New Economic School'\n",
    "b = 'Studies'\n",
    "\n",
    "sum_strings = a + b\n",
    "multiply_by_factor = a * 3\n",
    "together = a * 3 + ' ' + b * 2\n",
    "\n",
    "print(f'Slicing the first 3 characters of variable a: {a[:3]}')\n",
    "print(f'All characters till 3 last characters of variable a: {a[:-3]}')\n",
    "print(f'The second and the third characters of variable a: {a[1:3]}')\n",
    "print(f'All the charactes from the third one without 2 last characters: {a[2:-2]}')\n",
    "\n",
    "print('\\n')\n",
    "\n",
    "print(f'Sum of \"{a}\" and \"{b}\" is: \"{sum_strings}\"')\n",
    "print(f'Multiplication of \"{a}\" by \"{3}\" is: \"{multiply_by_factor}\"')\n",
    "print(f'Taking multiplication and sum of \"{a}\" and \"{b}\" is: \"{together}\"')"
   ]
  },
  {
   "cell_type": "markdown",
   "metadata": {},
   "source": [
    "Есть другие - более специфичные - типы слайсинга списков"
   ]
  },
  {
   "cell_type": "code",
   "execution_count": 19,
   "metadata": {},
   "outputs": [
    {
     "name": "stdout",
     "output_type": "stream",
     "text": [
      "Slicing every second element from New Economic School is: \"NwEooi col\"\n",
      "Reversion of New Economic School is: \"loohcS cimonocE weN\"\n",
      "New Economic School -> New Ec3n3mic Sch33l\n",
      "New Economic School -> New E3onomi3 School\n",
      "New Economic School -> New economic school\n",
      "New Economic School -> NEW ECONOMIC SCHOOL\n",
      "New Economic School -> new economic school\n"
     ]
    }
   ],
   "source": [
    "print(f'Slicing every second element from {a} is: \"{a[::2]}\"')\n",
    "print(f'Reversion of {a} is: \"{a[::-1]}\"')\n",
    "\n",
    "# Замещение элементов\n",
    "a_new = a.replace('o', '3')\n",
    "print(f'{a} -> {a_new}')\n",
    "a_new = a.replace('c', '3', 2)\n",
    "print(f'{a} -> {a_new}')\n",
    "\n",
    "# Первое слово строки с большой буквы\n",
    "a_new = a.capitalize()\n",
    "print(f'{a} -> {a_new}')\n",
    "\n",
    "# Все слова большими буквами\n",
    "a_new = a.upper()\n",
    "print(f'{a} -> {a_new}')\n",
    "\n",
    "# Все слова маленькими буквами\n",
    "a_new = a.lower()\n",
    "print(f'{a} -> {a_new}')"
   ]
  },
  {
   "cell_type": "code",
   "execution_count": 20,
   "metadata": {},
   "outputs": [
    {
     "name": "stdout",
     "output_type": "stream",
     "text": [
      "New Economic School\n",
      "['New', 'Economic', 'School']\n",
      "New Economic School\n",
      "New Economic School\n"
     ]
    }
   ],
   "source": [
    "a = 'New Economic School'\n",
    "print(a)\n",
    "\n",
    "# Сплитование строк\n",
    "b = a.split(sep=' ')\n",
    "print(b)\n",
    "\n",
    "# Джойн списка в строку\n",
    "c = ' '.join(b)\n",
    "print(c)\n",
    "\n",
    "# Убрать лишние пробелы в конце\n",
    "a = 'New Economic School      '\n",
    "print(a.rstrip())"
   ]
  },
  {
   "cell_type": "markdown",
   "metadata": {},
   "source": [
    "# 4. Контейнеры и операции над ними"
   ]
  },
  {
   "cell_type": "markdown",
   "metadata": {},
   "source": [
    "## 4.1. Списки"
   ]
  },
  {
   "cell_type": "markdown",
   "metadata": {},
   "source": [
    "Очень важной структурой данных в Python является список. Это просто упорядоченная совокупность (или коллекция), похожая на массив в других языках программирования, но с дополнительными функциональными возможностями."
   ]
  },
  {
   "cell_type": "code",
   "execution_count": 21,
   "metadata": {},
   "outputs": [
    {
     "data": {
      "text/plain": [
       "([1, 2, 3],\n",
       " ['строка', 0.1, True, 32923932],\n",
       " [[1, 2, 3], ['строка', 0.1, True, 32923932], []])"
      ]
     },
     "execution_count": 21,
     "metadata": {},
     "output_type": "execute_result"
    }
   ],
   "source": [
    "integer_list = [1, 2, 3] # список целых чисел\n",
    "heterogeneous_list = [\"строка\", 0.1 , True, 32923932] # разнородный список\n",
    "list_of_lists = [integer_list, heterogeneous_list, []] # список списков\n",
    "\n",
    "integer_list, heterogeneous_list, list_of_lists"
   ]
  },
  {
   "cell_type": "code",
   "execution_count": 22,
   "metadata": {},
   "outputs": [
    {
     "data": {
      "text/plain": [
       "(3, 6)"
      ]
     },
     "execution_count": 22,
     "metadata": {},
     "output_type": "execute_result"
    }
   ],
   "source": [
    "list_length = len(list_of_lists)\n",
    "list_sum = sum(integer_list)\n",
    "\n",
    "list_length, list_sum"
   ]
  },
  {
   "cell_type": "markdown",
   "metadata": {},
   "source": [
    "Устанавливать значение и получать доступ к n-му элементу списка можно при помощи квадратных скобок:\n"
   ]
  },
  {
   "cell_type": "code",
   "execution_count": 23,
   "metadata": {},
   "outputs": [
    {
     "name": "stdout",
     "output_type": "stream",
     "text": [
      "[0, 1, 2, 3, 4, 5, 6, 7, 8, 9]\n",
      "0\n",
      "9\n",
      "[3, 4, 5]\n",
      "[0, 1, 2, 3, 4, 15, 6, 7, 8, 9]\n"
     ]
    }
   ],
   "source": [
    "mylist = list(range(10))\n",
    "print(mylist)\n",
    "\n",
    "print(mylist[0])\n",
    "print(mylist[-1])\n",
    "print(mylist[3:6])\n",
    "\n",
    "mylist[5] = 15\n",
    "print(mylist)"
   ]
  },
  {
   "cell_type": "markdown",
   "metadata": {},
   "source": [
    "Над списками можно проводить ряд операций: смотреть, есть ли элемент в списке (`in`), присоединять элементы к списку (`append`) (элементами могут служить и другие списки, кортежи и т.д.), а также расширять список значениями другого списка (`extend`). Более того, если лист содержит строковые значения, их можно соединить."
   ]
  },
  {
   "cell_type": "code",
   "execution_count": 24,
   "metadata": {},
   "outputs": [
    {
     "name": "stdout",
     "output_type": "stream",
     "text": [
      "[1, 3, 5, 7, 9]\n",
      "True False\n",
      "[1, 3, 5, 7, 9, 999]\n",
      "[1, 3, 5, 7, 9, 999, 11, 15, False, '7']\n",
      "[1, 3, 5, 7, 9, 999, 11, 15, False, '7', ['abc', 12], ('aaa', 81)]\n"
     ]
    }
   ],
   "source": [
    "mylist = list(range(1, 10, 2))\n",
    "print(mylist)\n",
    "\n",
    "print(3 in mylist, \n",
    "      3 not in mylist)\n",
    "\n",
    "# в методе .append() не требуется делать присовение - с применением данного метода, число добавляется в список как бы inplace\n",
    "mylist.append(999)\n",
    "print(mylist)\n",
    "\n",
    "mylist2 = [11, 15, False, '7']\n",
    "mylist.extend(mylist2)\n",
    "print(mylist)\n",
    "\n",
    "mylist3 = ['abc', 12]\n",
    "mytuple = ('aaa', 81)\n",
    "mylist.append(mylist3)\n",
    "mylist.append(mytuple)\n",
    "print(mylist)"
   ]
  },
  {
   "cell_type": "markdown",
   "metadata": {},
   "source": [
    "Также со списками работают операции сложения и умножения. Сложение аналогично операции ```.append()```. Операция умножения служит для размножения элементов внутри списка."
   ]
  },
  {
   "cell_type": "code",
   "execution_count": 25,
   "metadata": {},
   "outputs": [
    {
     "name": "stdout",
     "output_type": "stream",
     "text": [
      "[1, 2, 3]\n",
      "[1, 2, 3, 4, 5, 6]\n",
      "6\n",
      "21\n",
      "[1, 2, 3, 4, 5, 6, 1, 2, 3, 4, 5, 6, 1, 2, 3, 4, 5, 6]\n"
     ]
    }
   ],
   "source": [
    "mylist = [1, 2, 3]\n",
    "print(mylist)\n",
    "\n",
    "mylist = mylist + [4, 5, 6]\n",
    "print(mylist)\n",
    "\n",
    "print(len(mylist)) # Возвращает длину списка\n",
    "print(sum(mylist)) # Возвращает сумму элементов списка\n",
    "print(mylist * 3)"
   ]
  },
  {
   "cell_type": "markdown",
   "metadata": {},
   "source": [
    "## 4.2. Кортежи"
   ]
  },
  {
   "cell_type": "markdown",
   "metadata": {},
   "source": [
    "От списков кортежи отличаются тем, что это \"неизменяемый\" типа данных: мы не сможем заменить один элемент кортежа на другой, обратившись к нему по индексу. Однако мы все же можем обратиться к элементу кортежа по индексу."
   ]
  },
  {
   "cell_type": "code",
   "execution_count": 26,
   "metadata": {},
   "outputs": [],
   "source": [
    "mytuple = (1, 2, 3, 4, 5)"
   ]
  },
  {
   "cell_type": "code",
   "execution_count": 27,
   "metadata": {},
   "outputs": [
    {
     "data": {
      "text/plain": [
       "3"
      ]
     },
     "execution_count": 27,
     "metadata": {},
     "output_type": "execute_result"
    }
   ],
   "source": [
    "mytuple[2]"
   ]
  },
  {
   "cell_type": "code",
   "execution_count": 28,
   "metadata": {},
   "outputs": [
    {
     "ename": "TypeError",
     "evalue": "'tuple' object does not support item assignment",
     "output_type": "error",
     "traceback": [
      "\u001b[0;31m---------------------------------------------------------------------------\u001b[0m",
      "\u001b[0;31mTypeError\u001b[0m                                 Traceback (most recent call last)",
      "Cell \u001b[0;32mIn[28], line 1\u001b[0m\n\u001b[0;32m----> 1\u001b[0m \u001b[43mmytuple\u001b[49m\u001b[43m[\u001b[49m\u001b[38;5;241;43m2\u001b[39;49m\u001b[43m]\u001b[49m \u001b[38;5;241m=\u001b[39m \u001b[38;5;241m7\u001b[39m\n",
      "\u001b[0;31mTypeError\u001b[0m: 'tuple' object does not support item assignment"
     ]
    }
   ],
   "source": [
    "mytuple[2] = 7"
   ]
  },
  {
   "cell_type": "code",
   "execution_count": 29,
   "metadata": {},
   "outputs": [
    {
     "data": {
      "text/plain": [
       "((1, 2, 3, 4, 5), (1, 2, 7, 4, 5))"
      ]
     },
     "execution_count": 29,
     "metadata": {},
     "output_type": "execute_result"
    }
   ],
   "source": [
    "list_from_tuple = list(mytuple)\n",
    "list_from_tuple[2] = 7\n",
    "tuple_from_list = tuple(list_from_tuple)\n",
    "\n",
    "mytuple, tuple_from_list"
   ]
  },
  {
   "cell_type": "markdown",
   "metadata": {},
   "source": [
    "## 4.3. Словари"
   ]
  },
  {
   "cell_type": "markdown",
   "metadata": {},
   "source": [
    "1. Сам словарь изменяем — можно добавлять/удалять новые пары \"ключ: значение\"; значения элементов словаря — изменяемые и не уникальные;\n",
    "2. А вот ключи — не изменяемые и уникальные, поэтому, например, мы не можем сделать ключом словаря список, но можем кортеж\n",
    "3. Из уникальности ключей также следует уникальность элементов словаря — пар \"ключ: значение\"."
   ]
  },
  {
   "cell_type": "code",
   "execution_count": 30,
   "metadata": {},
   "outputs": [
    {
     "data": {
      "text/plain": [
       "('pizza', 100, True)"
      ]
     },
     "execution_count": 30,
     "metadata": {},
     "output_type": "execute_result"
    }
   ],
   "source": [
    "mydict = {'name': 'pizza', 'price': 100, 'onions': True}\n",
    "\n",
    "mydict['name'], mydict['price'], mydict['onions']"
   ]
  },
  {
   "cell_type": "code",
   "execution_count": 31,
   "metadata": {},
   "outputs": [
    {
     "name": "stdout",
     "output_type": "stream",
     "text": [
      "dict_keys(['name', 'price', 'onions'])\n",
      "dict_values(['pizza', 100, True])\n",
      "dict_items([('name', 'pizza'), ('price', 100), ('onions', True)])\n"
     ]
    }
   ],
   "source": [
    "print(mydict.keys())\n",
    "print(mydict.values())\n",
    "print(mydict.items())"
   ]
  },
  {
   "cell_type": "code",
   "execution_count": 32,
   "metadata": {},
   "outputs": [
    {
     "ename": "TypeError",
     "evalue": "'dict_items' object is not subscriptable",
     "output_type": "error",
     "traceback": [
      "\u001b[0;31m---------------------------------------------------------------------------\u001b[0m",
      "\u001b[0;31mTypeError\u001b[0m                                 Traceback (most recent call last)",
      "Cell \u001b[0;32mIn[32], line 1\u001b[0m\n\u001b[0;32m----> 1\u001b[0m \u001b[43mmydict\u001b[49m\u001b[38;5;241;43m.\u001b[39;49m\u001b[43mitems\u001b[49m\u001b[43m(\u001b[49m\u001b[43m)\u001b[49m\u001b[43m[\u001b[49m\u001b[38;5;241;43m0\u001b[39;49m\u001b[43m]\u001b[49m\n",
      "\u001b[0;31mTypeError\u001b[0m: 'dict_items' object is not subscriptable"
     ]
    }
   ],
   "source": [
    "mydict.items()[0]"
   ]
  },
  {
   "cell_type": "markdown",
   "metadata": {},
   "source": [
    "Чтобы обратиться, например, к айтемам словаря, необходимо перевести тип в списковый"
   ]
  },
  {
   "cell_type": "code",
   "execution_count": 33,
   "metadata": {},
   "outputs": [
    {
     "data": {
      "text/plain": [
       "('name', 'pizza')"
      ]
     },
     "execution_count": 33,
     "metadata": {},
     "output_type": "execute_result"
    }
   ],
   "source": [
    "list(mydict.items())[0]"
   ]
  },
  {
   "cell_type": "markdown",
   "metadata": {},
   "source": [
    "Добавление элементов в словарь"
   ]
  },
  {
   "cell_type": "code",
   "execution_count": 34,
   "metadata": {},
   "outputs": [],
   "source": [
    "mydict['diameter'] = 42"
   ]
  },
  {
   "cell_type": "markdown",
   "metadata": {},
   "source": [
    "Если, например, нужно увеличить какой-то численный элемент словаря, но нам неизвестно, есть уже такой элемент или его нужно добавить, то можно воспользоваться следующим подходом с использованем метода `.get(ключ, значение при отсутствии ключа)`:"
   ]
  },
  {
   "cell_type": "code",
   "execution_count": 35,
   "metadata": {},
   "outputs": [
    {
     "data": {
      "text/plain": [
       "{'name': 'pizza',\n",
       " 'price': 120,\n",
       " 'onions': True,\n",
       " 'diameter': 42,\n",
       " 'new_price': 120}"
      ]
     },
     "execution_count": 35,
     "metadata": {},
     "output_type": "execute_result"
    }
   ],
   "source": [
    "mydict['price'] += 20\n",
    "\n",
    "mydict['new_price'] = mydict.get('new_price', 100) + 20\n",
    "\n",
    "mydict"
   ]
  },
  {
   "cell_type": "markdown",
   "metadata": {},
   "source": [
    "Удобство метода ```.get()``` заключается в том, что мы сами можем установить, какое значение будет возвращено в случае, если пары с выбранным ключом нет в словаре. Так, вместо ```None``` мы можем вернуть строку ```Not found```, и ломаться ничего не будет:"
   ]
  },
  {
   "cell_type": "code",
   "execution_count": 36,
   "metadata": {},
   "outputs": [
    {
     "name": "stdout",
     "output_type": "stream",
     "text": [
      "None\n",
      "Not Found\n"
     ]
    }
   ],
   "source": [
    "print(mydict.get('souce'))\n",
    "print(mydict.get('souce', 'Not Found'))"
   ]
  },
  {
   "cell_type": "markdown",
   "metadata": {},
   "source": [
    "В качестве значений в словаре также могут выступать, например, списки:"
   ]
  },
  {
   "cell_type": "code",
   "execution_count": 37,
   "metadata": {},
   "outputs": [
    {
     "name": "stdout",
     "output_type": "stream",
     "text": [
      "{'name': 'pizza', 'price': 120, 'onions': True, 'diameter': 42, 'new_price': 120, 'souces': ['bbq', 'ketchup']}\n"
     ]
    }
   ],
   "source": [
    "mydict['souces'] = ['bbq', 'ketchup']\n",
    "\n",
    "print(mydict)"
   ]
  },
  {
   "cell_type": "markdown",
   "metadata": {},
   "source": [
    "Нередко случается так, что нужно отсортировать словарь по его ключам или элементам. Проще всего это сделать следующим способом (подробнее лямбда-функции обсудим попозже):"
   ]
  },
  {
   "cell_type": "code",
   "execution_count": 38,
   "metadata": {},
   "outputs": [
    {
     "name": "stdout",
     "output_type": "stream",
     "text": [
      "[('five', 5), ('four', 4), ('one', 1), ('three', 3), ('two', 2)]\n",
      "[('one', 1), ('two', 2), ('three', 3), ('four', 4), ('five', 5)]\n"
     ]
    }
   ],
   "source": [
    "mydict2 = {'one': 1, \n",
    "           'two': 2, \n",
    "           'three': 3, \n",
    "           'four': 4, \n",
    "           'five': 5}\n",
    "\n",
    "print(sorted(mydict2.items(), key=lambda x: x[0]))\n",
    "print(sorted(mydict2.items(), key=lambda x: x[1]))"
   ]
  },
  {
   "cell_type": "markdown",
   "metadata": {},
   "source": [
    "## 4.4. Сеты"
   ]
  },
  {
   "cell_type": "markdown",
   "metadata": {},
   "source": [
    "Чаще всего сеты используются для хранения уникальных элементов. Плюс, обращение к элементам сетов происходит за константное время ```O(1)```,  в то время как обращение к элементам списков происходит за линейное время ```O(n)```. Иными словами, время, например, получения информации о присутствии того или иного элемента в сете не зависит от его величины. В случае со списком время обращения зависит от его длины.\n",
    "\n",
    "На самом деле, обращение к элементам словаря тоже происходят за константное время :)\n",
    "\n",
    "Такие вещи принято относить к типу хэш-таблиц (просто чтобы вы знали)"
   ]
  },
  {
   "cell_type": "code",
   "execution_count": 39,
   "metadata": {},
   "outputs": [
    {
     "name": "stdout",
     "output_type": "stream",
     "text": [
      "{1, 2, 3}\n",
      "{1, 2, 3, 4}\n",
      "{1, 2, 3, 4}\n",
      "True\n",
      "False\n"
     ]
    }
   ],
   "source": [
    "myset = set([1, 2, 3])\n",
    "print(myset)\n",
    "\n",
    "myset.add(4)\n",
    "print(myset)\n",
    "\n",
    "myset.add(2)\n",
    "print(myset)\n",
    "\n",
    "print(2 in myset)\n",
    "print(7 in myset)"
   ]
  },
  {
   "cell_type": "markdown",
   "metadata": {},
   "source": [
    "# 5. Условные операторы (if, else, elif)"
   ]
  },
  {
   "cell_type": "markdown",
   "metadata": {},
   "source": [
    "В условных операторах можно выделить следующие: ```if```, ```else``` и ```elif``` (else if). Данными операторами проверяется выполнение того или иного условия. После данных выражений (как и для циклов, функций и классов) ставится двоеточие и делается отступ на следующей строке "
   ]
  },
  {
   "cell_type": "code",
   "execution_count": 40,
   "metadata": {},
   "outputs": [
    {
     "name": "stdout",
     "output_type": "stream",
     "text": [
      "a is greater than b\n"
     ]
    }
   ],
   "source": [
    "a = 4\n",
    "b = 2\n",
    "\n",
    "if a > b:\n",
    "    print('a is greater than b')"
   ]
  },
  {
   "cell_type": "code",
   "execution_count": 41,
   "metadata": {},
   "outputs": [
    {
     "name": "stdout",
     "output_type": "stream",
     "text": [
      "a is not greater than b\n"
     ]
    }
   ],
   "source": [
    "a = 2\n",
    "b = 4\n",
    "\n",
    "if a > b:\n",
    "    print('a is greater than b')\n",
    "else:\n",
    "    print('a is not greater than b')"
   ]
  },
  {
   "cell_type": "code",
   "execution_count": 42,
   "metadata": {},
   "outputs": [
    {
     "name": "stdout",
     "output_type": "stream",
     "text": [
      "a is equal to b\n"
     ]
    }
   ],
   "source": [
    "a = 2\n",
    "b = 2\n",
    "\n",
    "if a > b:\n",
    "    print('a is greater than b')\n",
    "elif a < b:\n",
    "    print('a is less than b')\n",
    "else:\n",
    "    print('a is equal to b')"
   ]
  },
  {
   "cell_type": "code",
   "execution_count": 43,
   "metadata": {},
   "outputs": [
    {
     "name": "stdout",
     "output_type": "stream",
     "text": [
      "index of 3 is 2\n"
     ]
    }
   ],
   "source": [
    "a = 3\n",
    "mylist = [1, 2, 3, 4]\n",
    "\n",
    "if a in mylist:\n",
    "    print(f'index of {a} is {mylist.index(a)}')"
   ]
  },
  {
   "cell_type": "markdown",
   "metadata": {},
   "source": [
    "Посмотрим на логические переменные"
   ]
  },
  {
   "cell_type": "code",
   "execution_count": 44,
   "metadata": {},
   "outputs": [
    {
     "name": "stdout",
     "output_type": "stream",
     "text": [
      "True\n",
      "True\n"
     ]
    }
   ],
   "source": [
    "flag = True\n",
    "\n",
    "if flag == True:\n",
    "    print(flag)\n",
    "    \n",
    "if flag:\n",
    "    print(flag)\n",
    "    \n",
    "# Одно и то же"
   ]
  },
  {
   "cell_type": "code",
   "execution_count": 45,
   "metadata": {},
   "outputs": [
    {
     "name": "stdout",
     "output_type": "stream",
     "text": [
      "1\n"
     ]
    }
   ],
   "source": [
    "a = 1\n",
    "\n",
    "if a:\n",
    "    print(a)\n",
    "\n",
    "a -= 1\n",
    "if a:\n",
    "    print(a)"
   ]
  },
  {
   "cell_type": "code",
   "execution_count": 46,
   "metadata": {},
   "outputs": [
    {
     "name": "stdout",
     "output_type": "stream",
     "text": [
      "False\n"
     ]
    }
   ],
   "source": [
    "flag = False\n",
    "\n",
    "if not flag:\n",
    "    print(flag)\n",
    "    \n",
    "# Отрицание "
   ]
  },
  {
   "cell_type": "markdown",
   "metadata": {},
   "source": [
    "# 6. Циклы"
   ]
  },
  {
   "cell_type": "markdown",
   "metadata": {},
   "source": [
    "## 6.1. For"
   ]
  },
  {
   "cell_type": "markdown",
   "metadata": {},
   "source": [
    "Выведем элементы из списка"
   ]
  },
  {
   "cell_type": "code",
   "execution_count": 47,
   "metadata": {},
   "outputs": [
    {
     "name": "stdout",
     "output_type": "stream",
     "text": [
      "0\n",
      "1\n",
      "2\n",
      "3\n",
      "4\n"
     ]
    }
   ],
   "source": [
    "mylist = [0, 1, 2, 3, 4]\n",
    "\n",
    "for i in mylist:\n",
    "    print(i)"
   ]
  },
  {
   "cell_type": "code",
   "execution_count": 48,
   "metadata": {},
   "outputs": [
    {
     "name": "stdout",
     "output_type": "stream",
     "text": [
      "0 1 2 3 4 "
     ]
    }
   ],
   "source": [
    "mylist = [0, 1, 2, 3, 4]\n",
    "\n",
    "for i in mylist:\n",
    "    print(i, end=' ')"
   ]
  },
  {
   "cell_type": "markdown",
   "metadata": {},
   "source": [
    "Выведем элементы из списка в обратном порядке"
   ]
  },
  {
   "cell_type": "code",
   "execution_count": 49,
   "metadata": {},
   "outputs": [
    {
     "name": "stdout",
     "output_type": "stream",
     "text": [
      "4\n",
      "3\n",
      "2\n",
      "1\n",
      "0\n"
     ]
    }
   ],
   "source": [
    "mylist = [0, 1, 2, 3, 4]\n",
    "\n",
    "for i in mylist[::-1]:\n",
    "    print(i)"
   ]
  },
  {
   "cell_type": "markdown",
   "metadata": {},
   "source": [
    "Можем сделать то же самое при использовании функции ```range()```"
   ]
  },
  {
   "cell_type": "code",
   "execution_count": 50,
   "metadata": {},
   "outputs": [
    {
     "name": "stdout",
     "output_type": "stream",
     "text": [
      "0\n",
      "1\n",
      "2\n",
      "3\n",
      "4\n"
     ]
    }
   ],
   "source": [
    "for i in range(5):\n",
    "    print(i)"
   ]
  },
  {
   "cell_type": "markdown",
   "metadata": {},
   "source": [
    "Внутри циклов можно задавать условия. Так, например, мы можем вывести из списка только четные числа"
   ]
  },
  {
   "cell_type": "code",
   "execution_count": 51,
   "metadata": {
    "scrolled": true
   },
   "outputs": [
    {
     "name": "stdout",
     "output_type": "stream",
     "text": [
      "2\n",
      "4\n",
      "6\n",
      "8\n",
      "10\n"
     ]
    }
   ],
   "source": [
    "mylist = [1, 2, 3, 4, 6, 5, 7, 8, 9, 10]\n",
    "\n",
    "for i in mylist:\n",
    "    if i % 2 == 0:\n",
    "        print(i)"
   ]
  },
  {
   "cell_type": "markdown",
   "metadata": {},
   "source": [
    "Иногда случается так, что нужно прогнать цикл в зависимости от длины списка и с индексами списка"
   ]
  },
  {
   "cell_type": "code",
   "execution_count": 52,
   "metadata": {},
   "outputs": [
    {
     "name": "stdout",
     "output_type": "stream",
     "text": [
      "hello\n",
      "hi\n",
      "good morning\n"
     ]
    }
   ],
   "source": [
    "mylist = ['hello', 'hi', 'good morning']\n",
    "\n",
    "for i in range(len(mylist)):\n",
    "    print(mylist[i])"
   ]
  },
  {
   "cell_type": "markdown",
   "metadata": {},
   "source": [
    "Чтобы не писать ```range(len(mylist))``` и потом не нагромождать код обращением к списку по индексу, можно использовать функцию ```enumerate()```"
   ]
  },
  {
   "cell_type": "code",
   "execution_count": 53,
   "metadata": {},
   "outputs": [
    {
     "name": "stdout",
     "output_type": "stream",
     "text": [
      "0 5\n",
      "1 3\n",
      "2 1\n",
      "3 6\n",
      "4 10\n"
     ]
    }
   ],
   "source": [
    "mylist = [5, 3, 1, 6, 10]\n",
    "\n",
    "for i, number in enumerate(mylist):\n",
    "    print(i, number)"
   ]
  },
  {
   "cell_type": "code",
   "execution_count": 54,
   "metadata": {},
   "outputs": [
    {
     "data": {
      "text/plain": [
       "[(0, 5), (1, 3), (2, 1), (3, 6), (4, 10)]"
      ]
     },
     "execution_count": 54,
     "metadata": {},
     "output_type": "execute_result"
    }
   ],
   "source": [
    "list(enumerate(mylist))"
   ]
  },
  {
   "cell_type": "markdown",
   "metadata": {},
   "source": [
    "Иногда возникает ситуация, когда нам нужно итерироваться параллельно по двум спискам. Тогда мы можем воспользоваться функцией ```zip()```"
   ]
  },
  {
   "cell_type": "code",
   "execution_count": 55,
   "metadata": {},
   "outputs": [
    {
     "name": "stdout",
     "output_type": "stream",
     "text": [
      "5 Tom\n",
      "3 Tim\n",
      "2 Jack\n",
      "5 Robert\n"
     ]
    }
   ],
   "source": [
    "mylist = [5, 3, 2, 5]\n",
    "mylist2 = ['Tom', 'Tim', 'Jack', 'Robert']\n",
    "\n",
    "for i, j in zip(mylist, mylist2):\n",
    "    print(i, j)"
   ]
  },
  {
   "cell_type": "markdown",
   "metadata": {},
   "source": [
    "Если один из списков короче других, то итерация будет происходить столько раз, какова длина наименьшего списка"
   ]
  },
  {
   "cell_type": "code",
   "execution_count": 56,
   "metadata": {},
   "outputs": [
    {
     "name": "stdout",
     "output_type": "stream",
     "text": [
      "5 Tom\n",
      "3 Tim\n",
      "2 Jack\n"
     ]
    }
   ],
   "source": [
    "mylist = [5, 3, 2]\n",
    "mylist2 = ['Tom', 'Tim', 'Jack', 'Robert']\n",
    "\n",
    "for i, j in zip(mylist, mylist2):\n",
    "    print(i, j)"
   ]
  },
  {
   "cell_type": "markdown",
   "metadata": {},
   "source": [
    "При помощи ```for```-циклов можно писать так называемые каунтеры "
   ]
  },
  {
   "cell_type": "code",
   "execution_count": 57,
   "metadata": {},
   "outputs": [
    {
     "name": "stdout",
     "output_type": "stream",
     "text": [
      "В списке 7 чисел кратных тройке\n"
     ]
    }
   ],
   "source": [
    "counter = 0\n",
    "\n",
    "# посчитаем сколько элементов в списке от 0 до 19 деляется на 3 без остатка\n",
    "for i in range(20):\n",
    "    if i % 3 == 0:\n",
    "        counter += 1\n",
    "        \n",
    "print(f'В списке {counter} чисел кратных тройке')"
   ]
  },
  {
   "cell_type": "markdown",
   "metadata": {},
   "source": [
    "**List comprehension** также является достаточно полезной и часто используемой вещью"
   ]
  },
  {
   "cell_type": "code",
   "execution_count": 58,
   "metadata": {},
   "outputs": [
    {
     "name": "stdout",
     "output_type": "stream",
     "text": [
      "0^2 = 0\n",
      "1^2 = 1\n",
      "2^2 = 4\n",
      "3^2 = 9\n",
      "4^2 = 16\n"
     ]
    }
   ],
   "source": [
    "mylist = [0, 1, 2, 3, 4]\n",
    "\n",
    "mylist_squared = [n**2 for n in mylist]\n",
    "\n",
    "for i, j in zip(mylist, mylist_squared):\n",
    "    print(f'{i}^2 = {j}')"
   ]
  },
  {
   "cell_type": "markdown",
   "metadata": {},
   "source": [
    "Внутри __list comprehesion__ можно также устанавливать условия с использованием условных операторов"
   ]
  },
  {
   "cell_type": "code",
   "execution_count": 59,
   "metadata": {},
   "outputs": [
    {
     "name": "stdout",
     "output_type": "stream",
     "text": [
      "[0, 2, 4]\n",
      "[0, None, 2, None, 4]\n"
     ]
    }
   ],
   "source": [
    "mylist = [0, 1, 2, 3, 4]\n",
    "\n",
    "print([n for n in mylist if n%2==0])\n",
    "print([n if n%2==0 else None for n in mylist])"
   ]
  },
  {
   "cell_type": "markdown",
   "metadata": {},
   "source": [
    "## 6.2. While"
   ]
  },
  {
   "cell_type": "markdown",
   "metadata": {},
   "source": [
    "Такой тип цикла полезен в случае, когда мы хотим выйти из цикла при достижении какого-то условия"
   ]
  },
  {
   "cell_type": "code",
   "execution_count": 60,
   "metadata": {},
   "outputs": [
    {
     "name": "stdout",
     "output_type": "stream",
     "text": [
      "0\n",
      "1\n",
      "2\n",
      "3\n",
      "4\n"
     ]
    }
   ],
   "source": [
    "counter = 0\n",
    "\n",
    "while counter < 5:\n",
    "    print(counter)\n",
    "    counter += 1    # Не забывайте проверять, что элемент, на котором построен цикл while, изменяется\n",
    "                    # Иначе цикл может оказаться бесконечным"
   ]
  },
  {
   "cell_type": "code",
   "execution_count": 61,
   "metadata": {},
   "outputs": [
    {
     "name": "stdout",
     "output_type": "stream",
     "text": [
      "0\n",
      "1\n",
      "2\n",
      "3\n",
      "4\n"
     ]
    }
   ],
   "source": [
    "flag = True\n",
    "counter = 0\n",
    "\n",
    "while flag:\n",
    "    if counter >= 4:\n",
    "        flag = False    # Изменяем flag на False, чтобы выйти не заходить в цикл на следующей итерации\n",
    "        print(counter)\n",
    "    elif counter < 4:\n",
    "        print(counter)\n",
    "        counter += 1"
   ]
  },
  {
   "cell_type": "markdown",
   "metadata": {},
   "source": [
    "# 7. Модули (импортирование библиотек)"
   ]
  },
  {
   "cell_type": "markdown",
   "metadata": {},
   "source": [
    "Некоторые инструменты для разработки не загружаются по умолчанию. Для того, чтобы их можно было использовать, необходимо импортировать модули, которые их содержат.\n",
    "\n",
    "Один из подходов заключается в том, чтобы просто импортировать сам модуль:"
   ]
  },
  {
   "cell_type": "code",
   "execution_count": 62,
   "metadata": {},
   "outputs": [
    {
     "data": {
      "text/plain": [
       "['0', '3', '79']"
      ]
     },
     "execution_count": 62,
     "metadata": {},
     "output_type": "execute_result"
    }
   ],
   "source": [
    "import re # модуль регулярных выражений (regular expressions)\n",
    "\n",
    "re.split('[a-z]+', '0a3B79', flags=re.IGNORECASE)"
   ]
  },
  {
   "cell_type": "markdown",
   "metadata": {},
   "source": [
    "Здесь re — это название модуля, содержащего функции и константы для работы с регулярными выражениями. Импортировав таким способом весь модуль, можно обращаться к функциям и методам, предваряя их префиксом re.\n",
    "\n",
    "Если в коде переменная с именем re уже есть, то можно воспользоваться псевдонимом модуля:"
   ]
  },
  {
   "cell_type": "code",
   "execution_count": 63,
   "metadata": {},
   "outputs": [
    {
     "data": {
      "text/plain": [
       "['0', '3', '79']"
      ]
     },
     "execution_count": 63,
     "metadata": {},
     "output_type": "execute_result"
    }
   ],
   "source": [
    "import re as regex\n",
    "\n",
    "regex.split('[a-z]+', '0a3B79', flags=regex.IGNORECASE)"
   ]
  },
  {
   "cell_type": "markdown",
   "metadata": {},
   "source": [
    "Если из модуля нужно получить несколько конкретных объектов, то их можно импортировать в явном виде и использовать без ограничений:"
   ]
  },
  {
   "cell_type": "code",
   "execution_count": 64,
   "metadata": {},
   "outputs": [
    {
     "name": "stdout",
     "output_type": "stream",
     "text": [
      "defaultdict: defaultdict(<class 'int'>, {'one': 1, 'two': 2, 'three': 3})\n",
      "counter: Counter({1: 2, 3: 2, 6: 2, 2: 1, 5: 1})\n"
     ]
    }
   ],
   "source": [
    "from collections import defaultdict, Counter\n",
    "\n",
    "lookup = defaultdict(int)\n",
    "lookup['one'] = 1\n",
    "lookup['two'] = 2\n",
    "lookup['three'] = 3\n",
    "\n",
    "mycounter = Counter([1, 2, 3, 1, 3, 5, 6, 6])\n",
    "\n",
    "print(f'defaultdict: {lookup}')\n",
    "print(f'counter: {mycounter}')"
   ]
  }
 ],
 "metadata": {
  "anaconda-cloud": {},
  "kernelspec": {
   "display_name": "Python 3 (ipykernel)",
   "language": "python",
   "name": "python3"
  },
  "language_info": {
   "codemirror_mode": {
    "name": "ipython",
    "version": 3
   },
   "file_extension": ".py",
   "mimetype": "text/x-python",
   "name": "python",
   "nbconvert_exporter": "python",
   "pygments_lexer": "ipython3",
   "version": "3.11.3"
  }
 },
 "nbformat": 4,
 "nbformat_minor": 2
}
